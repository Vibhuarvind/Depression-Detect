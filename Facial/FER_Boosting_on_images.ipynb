{
  "nbformat": 4,
  "nbformat_minor": 0,
  "metadata": {
    "colab": {
      "name": "FER-Boosting on images.ipynb",
      "provenance": [],
      "collapsed_sections": [],
      "mount_file_id": "19ooQKwWXZ6AgTAYVtz07L8ZNDU_C1o44",
      "authorship_tag": "ABX9TyMcOiPVwX/lXYPsZJXocKyl",
      "include_colab_link": true
    },
    "kernelspec": {
      "name": "python3",
      "display_name": "Python 3"
    },
    "language_info": {
      "name": "python"
    }
  },
  "cells": [
    {
      "cell_type": "markdown",
      "metadata": {
        "id": "view-in-github",
        "colab_type": "text"
      },
      "source": [
        "<a href=\"https://colab.research.google.com/github/Vibhuarvind/Depression-Detect/blob/main/Facial/FER_Boosting_on_images.ipynb\" target=\"_parent\"><img src=\"https://colab.research.google.com/assets/colab-badge.svg\" alt=\"Open In Colab\"/></a>"
      ]
    },
    {
      "cell_type": "code",
      "metadata": {
        "id": "LG8akAd7sA6v"
      },
      "source": [
        "### General imports ###\n",
        "import numpy as np\n",
        "import pandas as pd\n",
        "import matplotlib.pyplot as plt\n",
        "from time import time\n",
        "from time import sleep\n",
        "import re\n",
        "import os\n",
        "import argparse\n",
        "from collections import OrderedDict\n",
        "import matplotlib.animation as animation\n",
        "\n",
        "### Image processing ###\n",
        "from scipy.ndimage import zoom\n",
        "from scipy.spatial import distance\n",
        "import imutils\n",
        "from scipy import ndimage\n",
        "import cv2\n",
        "import dlib\n",
        "from __future__ import division\n",
        "from imutils import face_utils\n",
        "\n",
        "### CNN models ###\n",
        "import keras\n",
        "from keras.preprocessing.image import ImageDataGenerator, array_to_img, img_to_array, load_img\n",
        "from keras.callbacks import TensorBoard\n",
        "from keras.models import Sequential\n",
        "from keras.layers.core import Dense, Dropout, Activation, Flatten\n",
        "from keras.layers.convolutional import Conv2D, MaxPooling2D, SeparableConv2D\n",
        "from keras.utils import np_utils\n",
        "from keras.regularizers import l2#, activity_l2\n",
        "from tensorflow.keras.optimizers import SGD, RMSprop\n",
        "from tensorflow.keras.utils import to_categorical\n",
        "from tensorflow.keras.layers import BatchNormalization\n",
        "from keras import models\n",
        "from keras.utils.vis_utils import plot_model\n",
        "from keras.layers import Input, GlobalAveragePooling2D\n",
        "from keras.models import Model\n",
        "from tensorflow.keras import layers\n",
        "\n",
        "### Build SVM models ###\n",
        "from sklearn.preprocessing import OneHotEncoder\n",
        "from sklearn.model_selection import train_test_split\n",
        "from sklearn.metrics import accuracy_score\n",
        "from sklearn import svm\n",
        "from lightgbm import LGBMClassifier\n",
        "from sklearn.multiclass import OneVsRestClassifier\n",
        "\n",
        "### Same trained models ###\n",
        "import h5py\n",
        "from tensorflow.keras.models import model_from_json\n",
        "import pickle\n"
      ],
      "execution_count": null,
      "outputs": []
    },
    {
      "cell_type": "code",
      "metadata": {
        "id": "IJk8Q04BsxQL"
      },
      "source": [
        "path = '/content/drive/MyDrive/'\n",
        "local_path = '/content/drive/MyDrive/'"
      ],
      "execution_count": null,
      "outputs": []
    },
    {
      "cell_type": "code",
      "metadata": {
        "id": "OKljKAMTwjKR"
      },
      "source": [
        "X_train = np.load(local_path + \"X_train.npy\")\n",
        "X_test = np.load(local_path + \"X_test.npy\")\n",
        "y_train = np.load(local_path + \"y_train.npy\")\n",
        "y_test = np.load(local_path + \"y_test.npy\")"
      ],
      "execution_count": null,
      "outputs": []
    },
    {
      "cell_type": "code",
      "metadata": {
        "id": "reGxv9Www0ax"
      },
      "source": [
        "shape_x = 48\n",
        "shape_y = 48\n",
        "nRows,nCols,nDims = X_train.shape[1:]\n",
        "input_shape = (nRows, nCols, nDims)\n",
        "classes = np.unique(y_train)\n",
        "nClasses = len(classes)"
      ],
      "execution_count": null,
      "outputs": []
    },
    {
      "cell_type": "code",
      "metadata": {
        "colab": {
          "base_uri": "https://localhost:8080/"
        },
        "id": "2B5WG0n0w5bO",
        "outputId": "5beb0eaa-7cac-497e-ecbc-e76ec4e3bc07"
      },
      "source": [
        "X_train.shape"
      ],
      "execution_count": null,
      "outputs": [
        {
          "output_type": "execute_result",
          "data": {
            "text/plain": [
              "(28709, 48, 48, 1)"
            ]
          },
          "metadata": {},
          "execution_count": 5
        }
      ]
    },
    {
      "cell_type": "code",
      "metadata": {
        "colab": {
          "base_uri": "https://localhost:8080/"
        },
        "id": "yp1zSvAbw9PQ",
        "outputId": "3fccb16c-2d31-499c-e7ab-018d547bb1b3"
      },
      "source": [
        "y_train.shape"
      ],
      "execution_count": null,
      "outputs": [
        {
          "output_type": "execute_result",
          "data": {
            "text/plain": [
              "(28709, 7)"
            ]
          },
          "metadata": {},
          "execution_count": 6
        }
      ]
    },
    {
      "cell_type": "code",
      "metadata": {
        "colab": {
          "base_uri": "https://localhost:8080/"
        },
        "id": "vXA6MVz6xAcK",
        "outputId": "2929ef6d-fc60-4a01-8450-8a1c84c36d68"
      },
      "source": [
        "clf = OneVsRestClassifier(LGBMClassifier(learning_rate = 0.1, num_leaves = 10, n_estimators=10, verbose=1))\n",
        "clf.fit(X_train.reshape(-1,48*48*1), y_train)"
      ],
      "execution_count": null,
      "outputs": [
        {
          "output_type": "execute_result",
          "data": {
            "text/plain": [
              "OneVsRestClassifier(estimator=LGBMClassifier(n_estimators=10, num_leaves=10,\n",
              "                                             verbose=1))"
            ]
          },
          "metadata": {},
          "execution_count": 10
        }
      ]
    },
    {
      "cell_type": "code",
      "metadata": {
        "colab": {
          "base_uri": "https://localhost:8080/"
        },
        "id": "C-QF9n3MxEL_",
        "outputId": "fe73b941-89df-42bf-8cbd-e38342b2eeae"
      },
      "source": [
        "y_pred = clf.predict(X_test.reshape(-1,48*48*1))\n",
        "print(accuracy_score(y_pred, y_test))"
      ],
      "execution_count": null,
      "outputs": [
        {
          "output_type": "stream",
          "name": "stdout",
          "text": [
            "0.008080245193647256\n"
          ]
        }
      ]
    },
    {
      "cell_type": "code",
      "metadata": {
        "colab": {
          "base_uri": "https://localhost:8080/"
        },
        "id": "uaYelhn0yUpv",
        "outputId": "eb45f933-898c-4e13-b5bd-577e29f7c559"
      },
      "source": [
        "y_pred>0"
      ],
      "execution_count": null,
      "outputs": [
        {
          "output_type": "execute_result",
          "data": {
            "text/plain": [
              "array([[False, False, False, ..., False, False, False],\n",
              "       [False, False, False, ..., False, False, False],\n",
              "       [False, False, False, ..., False, False, False],\n",
              "       ...,\n",
              "       [False, False, False, ..., False, False, False],\n",
              "       [False, False, False, ..., False, False, False],\n",
              "       [False, False, False, ..., False, False, False]])"
            ]
          },
          "metadata": {},
          "execution_count": 12
        }
      ]
    },
    {
      "cell_type": "code",
      "metadata": {
        "colab": {
          "base_uri": "https://localhost:8080/",
          "height": 235
        },
        "id": "NIFLmL-ryYcH",
        "outputId": "7562ea41-ff84-47b0-97c0-63851026b187"
      },
      "source": [
        "#save the model weights\n",
        "json_string = model.to_json()\n",
        "model.save_weights(local_path + 'models/model_simple_2.h5')\n",
        "open(local_path + 'models/model_simple_2.json', 'w').write(json_string)\n",
        "#model.save_weights(local_path + 'savedmodels/Emotion_Face_Detection_Model.h5')"
      ],
      "execution_count": null,
      "outputs": [
        {
          "output_type": "error",
          "ename": "NameError",
          "evalue": "ignored",
          "traceback": [
            "\u001b[0;31m---------------------------------------------------------------------------\u001b[0m",
            "\u001b[0;31mNameError\u001b[0m                                 Traceback (most recent call last)",
            "\u001b[0;32m<ipython-input-23-61f84be4111a>\u001b[0m in \u001b[0;36m<module>\u001b[0;34m()\u001b[0m\n\u001b[1;32m      1\u001b[0m \u001b[0;31m#save the model weights\u001b[0m\u001b[0;34m\u001b[0m\u001b[0;34m\u001b[0m\u001b[0;34m\u001b[0m\u001b[0m\n\u001b[0;32m----> 2\u001b[0;31m \u001b[0mjson_string\u001b[0m \u001b[0;34m=\u001b[0m \u001b[0mmodel\u001b[0m\u001b[0;34m.\u001b[0m\u001b[0mto_json\u001b[0m\u001b[0;34m(\u001b[0m\u001b[0;34m)\u001b[0m\u001b[0;34m\u001b[0m\u001b[0;34m\u001b[0m\u001b[0m\n\u001b[0m\u001b[1;32m      3\u001b[0m \u001b[0mmodel\u001b[0m\u001b[0;34m.\u001b[0m\u001b[0msave_weights\u001b[0m\u001b[0;34m(\u001b[0m\u001b[0mlocal_path\u001b[0m \u001b[0;34m+\u001b[0m \u001b[0;34m'models/model_simple_2.h5'\u001b[0m\u001b[0;34m)\u001b[0m\u001b[0;34m\u001b[0m\u001b[0;34m\u001b[0m\u001b[0m\n\u001b[1;32m      4\u001b[0m \u001b[0mopen\u001b[0m\u001b[0;34m(\u001b[0m\u001b[0mlocal_path\u001b[0m \u001b[0;34m+\u001b[0m \u001b[0;34m'models/model_simple_2.json'\u001b[0m\u001b[0;34m,\u001b[0m \u001b[0;34m'w'\u001b[0m\u001b[0;34m)\u001b[0m\u001b[0;34m.\u001b[0m\u001b[0mwrite\u001b[0m\u001b[0;34m(\u001b[0m\u001b[0mjson_string\u001b[0m\u001b[0;34m)\u001b[0m\u001b[0;34m\u001b[0m\u001b[0;34m\u001b[0m\u001b[0m\n\u001b[1;32m      5\u001b[0m \u001b[0;31m#model.save_weights(local_path + 'savedmodels/Emotion_Face_Detection_Model.h5')\u001b[0m\u001b[0;34m\u001b[0m\u001b[0;34m\u001b[0m\u001b[0;34m\u001b[0m\u001b[0m\n",
            "\u001b[0;31mNameError\u001b[0m: name 'model' is not defined"
          ]
        }
      ]
    },
    {
      "cell_type": "code",
      "metadata": {
        "colab": {
          "base_uri": "https://localhost:8080/"
        },
        "id": "wGXlygHHykMh",
        "outputId": "3995a493-25d2-445c-daa4-73fd83f98079"
      },
      "source": [
        "with open(local_path + 'models/model_3.json','r') as f:\n",
        "    json = f.read()\n",
        "model = model_from_json(json)\n",
        "\n",
        "model.load_weights(local_path + 'models/model_3.h5')\n",
        "print(\"Loaded model from disk\")"
      ],
      "execution_count": null,
      "outputs": [
        {
          "output_type": "stream",
          "name": "stdout",
          "text": [
            "Loaded model from disk\n"
          ]
        }
      ]
    },
    {
      "cell_type": "code",
      "metadata": {
        "id": "K6EAvW9-zuM7"
      },
      "source": [
        ""
      ],
      "execution_count": null,
      "outputs": []
    }
  ]
}